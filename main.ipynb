{
 "cells": [
  {
   "cell_type": "markdown",
   "metadata": {},
   "source": [
    "# Sentiment Analysis on Movie Reviews\n",
    "## Overview\n",
    "This project demonstrates a complete machine learning pipeline for sentiment analysis on movie reviews. We will use the IMDb Movie Reviews dataset to classify reviews as either positive or negative. The process includes downloading and preprocessing the data, extracting features using TF-IDF, training a logistic regression model, and evaluating its performance. The notebook highlights key steps in natural language processing (NLP) and machine learning, showcasing data handling, model training, and visualization techniques. This project serves as a practical example for anyone interested in applying machine learning to text data and understanding sentiment analysis."
   ]
  },
  {
   "cell_type": "markdown",
   "metadata": {},
   "source": [
    "## Setup and Installation\n",
    "First, we need to set up our environment and install the necessary libraries. We will use numpy, pandas, scikit-learn, nltk, matplotlib, and seaborn for this project."
   ]
  },
  {
   "cell_type": "code",
   "execution_count": 4,
   "metadata": {},
   "outputs": [
    {
     "name": "stdout",
     "output_type": "stream",
     "text": [
      "Requirement already satisfied: numpy in /home/nirn/miniconda3/envs/operations_research/lib/python3.9/site-packages (1.26.3)\n",
      "Requirement already satisfied: pandas in /home/nirn/miniconda3/envs/operations_research/lib/python3.9/site-packages (2.2.0)\n",
      "Requirement already satisfied: scikit-learn in /home/nirn/miniconda3/envs/operations_research/lib/python3.9/site-packages (1.5.0)\n",
      "Requirement already satisfied: nltk in /home/nirn/miniconda3/envs/operations_research/lib/python3.9/site-packages (3.8.1)\n",
      "Requirement already satisfied: matplotlib in /home/nirn/miniconda3/envs/operations_research/lib/python3.9/site-packages (3.8.0)\n",
      "Requirement already satisfied: seaborn in /home/nirn/miniconda3/envs/operations_research/lib/python3.9/site-packages (0.13.2)\n",
      "Requirement already satisfied: python-dateutil>=2.8.2 in /home/nirn/miniconda3/envs/operations_research/lib/python3.9/site-packages (from pandas) (2.8.2)\n",
      "Requirement already satisfied: pytz>=2020.1 in /home/nirn/miniconda3/envs/operations_research/lib/python3.9/site-packages (from pandas) (2023.3.post1)\n",
      "Requirement already satisfied: tzdata>=2022.7 in /home/nirn/miniconda3/envs/operations_research/lib/python3.9/site-packages (from pandas) (2023.4)\n",
      "Requirement already satisfied: scipy>=1.6.0 in /home/nirn/miniconda3/envs/operations_research/lib/python3.9/site-packages (from scikit-learn) (1.11.4)\n",
      "Requirement already satisfied: joblib>=1.2.0 in /home/nirn/miniconda3/envs/operations_research/lib/python3.9/site-packages (from scikit-learn) (1.4.2)\n",
      "Requirement already satisfied: threadpoolctl>=3.1.0 in /home/nirn/miniconda3/envs/operations_research/lib/python3.9/site-packages (from scikit-learn) (3.5.0)\n",
      "Requirement already satisfied: click in /home/nirn/miniconda3/envs/operations_research/lib/python3.9/site-packages (from nltk) (8.1.7)\n",
      "Requirement already satisfied: regex>=2021.8.3 in /home/nirn/miniconda3/envs/operations_research/lib/python3.9/site-packages (from nltk) (2024.4.28)\n",
      "Requirement already satisfied: tqdm in /home/nirn/miniconda3/envs/operations_research/lib/python3.9/site-packages (from nltk) (4.66.4)\n",
      "Requirement already satisfied: contourpy>=1.0.1 in /home/nirn/miniconda3/envs/operations_research/lib/python3.9/site-packages (from matplotlib) (1.2.0)\n",
      "Requirement already satisfied: cycler>=0.10 in /home/nirn/miniconda3/envs/operations_research/lib/python3.9/site-packages (from matplotlib) (0.11.0)\n",
      "Requirement already satisfied: fonttools>=4.22.0 in /home/nirn/miniconda3/envs/operations_research/lib/python3.9/site-packages (from matplotlib) (4.25.0)\n",
      "Requirement already satisfied: kiwisolver>=1.0.1 in /home/nirn/miniconda3/envs/operations_research/lib/python3.9/site-packages (from matplotlib) (1.4.4)\n",
      "Requirement already satisfied: packaging>=20.0 in /home/nirn/miniconda3/envs/operations_research/lib/python3.9/site-packages (from matplotlib) (23.1)\n",
      "Requirement already satisfied: pillow>=6.2.0 in /home/nirn/miniconda3/envs/operations_research/lib/python3.9/site-packages (from matplotlib) (10.0.1)\n",
      "Requirement already satisfied: pyparsing>=2.3.1 in /home/nirn/miniconda3/envs/operations_research/lib/python3.9/site-packages (from matplotlib) (3.0.9)\n",
      "Requirement already satisfied: importlib-resources>=3.2.0 in /home/nirn/miniconda3/envs/operations_research/lib/python3.9/site-packages (from matplotlib) (6.1.1)\n",
      "Requirement already satisfied: zipp>=3.1.0 in /home/nirn/miniconda3/envs/operations_research/lib/python3.9/site-packages (from importlib-resources>=3.2.0->matplotlib) (3.17.0)\n",
      "Requirement already satisfied: six>=1.5 in /home/nirn/miniconda3/envs/operations_research/lib/python3.9/site-packages (from python-dateutil>=2.8.2->pandas) (1.16.0)\n",
      "Note: you may need to restart the kernel to use updated packages.\n"
     ]
    }
   ],
   "source": [
    "%pip install numpy pandas scikit-learn nltk matplotlib seaborn"
   ]
  },
  {
   "cell_type": "markdown",
   "metadata": {},
   "source": [
    "## Data Collection and Preprocessing\n",
    "### Download the Dataset\n",
    "We will download the IMDb Movie Reviews dataset and extract it."
   ]
  },
  {
   "cell_type": "code",
   "execution_count": 5,
   "metadata": {},
   "outputs": [],
   "source": [
    "import urllib.request\n",
    "import tarfile\n",
    "\n",
    "url = \"http://ai.stanford.edu/~amaas/data/sentiment/aclImdb_v1.tar.gz\"\n",
    "file_path = \"aclImdb_v1.tar.gz\"\n",
    "\n",
    "def download_and_extract(url, file_path):\n",
    "    urllib.request.urlretrieve(url, file_path)\n",
    "    with tarfile.open(file_path, \"r:gz\") as tar:\n",
    "        tar.extractall()\n",
    "\n",
    "download_and_extract(url, file_path)"
   ]
  },
  {
   "cell_type": "markdown",
   "metadata": {},
   "source": [
    "### Load and Preprocess the Data"
   ]
  },
  {
   "cell_type": "code",
   "execution_count": 6,
   "metadata": {},
   "outputs": [
    {
     "name": "stderr",
     "output_type": "stream",
     "text": [
      "[nltk_data] Downloading package stopwords to /home/nirn/nltk_data...\n",
      "[nltk_data]   Package stopwords is already up-to-date!\n",
      "[nltk_data] Downloading package punkt to /home/nirn/nltk_data...\n",
      "[nltk_data]   Package punkt is already up-to-date!\n"
     ]
    },
    {
     "data": {
      "text/html": [
       "<div>\n",
       "<style scoped>\n",
       "    .dataframe tbody tr th:only-of-type {\n",
       "        vertical-align: middle;\n",
       "    }\n",
       "\n",
       "    .dataframe tbody tr th {\n",
       "        vertical-align: top;\n",
       "    }\n",
       "\n",
       "    .dataframe thead th {\n",
       "        text-align: right;\n",
       "    }\n",
       "</style>\n",
       "<table border=\"1\" class=\"dataframe\">\n",
       "  <thead>\n",
       "    <tr style=\"text-align: right;\">\n",
       "      <th></th>\n",
       "      <th>review</th>\n",
       "      <th>sentiment</th>\n",
       "      <th>cleaned_review</th>\n",
       "    </tr>\n",
       "  </thead>\n",
       "  <tbody>\n",
       "    <tr>\n",
       "      <th>0</th>\n",
       "      <td>An American in Paris was, in many ways, the ul...</td>\n",
       "      <td>1</td>\n",
       "      <td>american paris many ways ultimate mixture art ...</td>\n",
       "    </tr>\n",
       "    <tr>\n",
       "      <th>1</th>\n",
       "      <td>All I can say about the Necromaniac/Schizophre...</td>\n",
       "      <td>1</td>\n",
       "      <td>say necromaniacschizophreniac 2 series even re...</td>\n",
       "    </tr>\n",
       "    <tr>\n",
       "      <th>2</th>\n",
       "      <td>John Carpenter's Halloween&lt;br /&gt;&lt;br /&gt;Is it th...</td>\n",
       "      <td>1</td>\n",
       "      <td>john carpenters halloweenbr br greatest horror...</td>\n",
       "    </tr>\n",
       "    <tr>\n",
       "      <th>3</th>\n",
       "      <td>There really isn't much to say about this movi...</td>\n",
       "      <td>1</td>\n",
       "      <td>really isnt much say movieits crude funbr br p...</td>\n",
       "    </tr>\n",
       "    <tr>\n",
       "      <th>4</th>\n",
       "      <td>In the immediate aftermath following World War...</td>\n",
       "      <td>1</td>\n",
       "      <td>immediate aftermath following world war ii sou...</td>\n",
       "    </tr>\n",
       "  </tbody>\n",
       "</table>\n",
       "</div>"
      ],
      "text/plain": [
       "                                              review  sentiment  \\\n",
       "0  An American in Paris was, in many ways, the ul...          1   \n",
       "1  All I can say about the Necromaniac/Schizophre...          1   \n",
       "2  John Carpenter's Halloween<br /><br />Is it th...          1   \n",
       "3  There really isn't much to say about this movi...          1   \n",
       "4  In the immediate aftermath following World War...          1   \n",
       "\n",
       "                                      cleaned_review  \n",
       "0  american paris many ways ultimate mixture art ...  \n",
       "1  say necromaniacschizophreniac 2 series even re...  \n",
       "2  john carpenters halloweenbr br greatest horror...  \n",
       "3  really isnt much say movieits crude funbr br p...  \n",
       "4  immediate aftermath following world war ii sou...  "
      ]
     },
     "execution_count": 6,
     "metadata": {},
     "output_type": "execute_result"
    }
   ],
   "source": [
    "import os\n",
    "import pandas as pd\n",
    "import numpy as np\n",
    "from nltk.corpus import stopwords\n",
    "from nltk.tokenize import word_tokenize\n",
    "import string\n",
    "\n",
    "# Download NLTK data\n",
    "import nltk\n",
    "nltk.download('stopwords')\n",
    "nltk.download('punkt')\n",
    "\n",
    "def load_data(data_dir):\n",
    "    data = {'review': [], 'sentiment': []}\n",
    "    for sentiment in ['pos', 'neg']:\n",
    "        path = os.path.join(data_dir, sentiment)\n",
    "        for file_name in os.listdir(path):\n",
    "            with open(os.path.join(path, file_name), 'r', encoding='utf-8') as file:\n",
    "                data['review'].append(file.read())\n",
    "                data['sentiment'].append(1 if sentiment == 'pos' else 0)\n",
    "    return pd.DataFrame(data)\n",
    "\n",
    "def preprocess_text(text):\n",
    "    stop_words = set(stopwords.words('english'))\n",
    "    text = text.lower()\n",
    "    text = text.translate(str.maketrans('', '', string.punctuation))\n",
    "    words = word_tokenize(text)\n",
    "    words = [word for word in words if word not in stop_words]\n",
    "    return ' '.join(words)\n",
    "\n",
    "data_dir = './aclImdb/train'\n",
    "df = load_data(data_dir)\n",
    "df['cleaned_review'] = df['review'].apply(preprocess_text)\n",
    "df.to_csv('preprocessed_data.csv', index=False)\n",
    "df.head()"
   ]
  },
  {
   "cell_type": "markdown",
   "metadata": {},
   "source": [
    "## Model Training\n",
    "### Feature Extraction\n",
    "We will use TF-IDF to convert text data into numerical form."
   ]
  },
  {
   "cell_type": "code",
   "execution_count": 7,
   "metadata": {},
   "outputs": [],
   "source": [
    "from sklearn.model_selection import train_test_split\n",
    "from sklearn.feature_extraction.text import TfidfVectorizer\n",
    "\n",
    "data = pd.read_csv('preprocessed_data.csv')\n",
    "X_train, X_test, y_train, y_test = train_test_split(data['cleaned_review'], data['sentiment'], test_size=0.2, random_state=42)\n",
    "\n",
    "vectorizer = TfidfVectorizer(max_features=5000)\n",
    "X_train_tfidf = vectorizer.fit_transform(X_train)\n",
    "X_test_tfidf = vectorizer.transform(X_test)\n"
   ]
  },
  {
   "cell_type": "markdown",
   "metadata": {},
   "source": [
    "### Train the Model\n",
    "We will train a logistic regression model on the TF-IDF features."
   ]
  },
  {
   "cell_type": "code",
   "execution_count": 8,
   "metadata": {},
   "outputs": [
    {
     "name": "stdout",
     "output_type": "stream",
     "text": [
      "Accuracy: 0.8866\n",
      "              precision    recall  f1-score   support\n",
      "\n",
      "           0       0.90      0.87      0.88      2485\n",
      "           1       0.88      0.90      0.89      2515\n",
      "\n",
      "    accuracy                           0.89      5000\n",
      "   macro avg       0.89      0.89      0.89      5000\n",
      "weighted avg       0.89      0.89      0.89      5000\n",
      "\n",
      "[[2162  323]\n",
      " [ 244 2271]]\n"
     ]
    }
   ],
   "source": [
    "from sklearn.linear_model import LogisticRegression\n",
    "from sklearn.metrics import accuracy_score, classification_report, confusion_matrix\n",
    "import pickle\n",
    "\n",
    "model = LogisticRegression()\n",
    "model.fit(X_train_tfidf, y_train)\n",
    "\n",
    "y_pred = model.predict(X_test_tfidf)\n",
    "print(f'Accuracy: {accuracy_score(y_test, y_pred)}')\n",
    "print(classification_report(y_test, y_pred))\n",
    "print(confusion_matrix(y_test, y_pred))\n",
    "\n",
    "with open('tfidf_vectorizer.pkl', 'wb') as f:\n",
    "    pickle.dump(vectorizer, f)\n",
    "\n",
    "with open('sentiment_model.pkl', 'wb') as f:\n",
    "    pickle.dump(model, f)"
   ]
  },
  {
   "cell_type": "markdown",
   "metadata": {},
   "source": [
    "##  Model Evaluation and Visualization\n",
    "### Evaluate the Model\n",
    "We will evaluate the model using a confusion matrix and other metrics. Visualizing the results helps us understand the model's performance better."
   ]
  },
  {
   "cell_type": "code",
   "execution_count": 10,
   "metadata": {},
   "outputs": [
    {
     "data": {
      "image/png": "[encoded data removed]",
      "text/plain": [
       "<Figure size 640x480 with 2 Axes>"
      ]
     },
     "metadata": {},
     "output_type": "display_data"
    }
   ],
   "source": [
    "import matplotlib.pyplot as plt\n",
    "import seaborn as sns\n",
    "\n",
    "def plot_confusion_matrix(y_test, y_pred):\n",
    "    cm = confusion_matrix(y_test, y_pred)\n",
    "    sns.heatmap(cm, annot=True, fmt='d', cmap='Blues', xticklabels=['Negative', 'Positive'], yticklabels=['Negative', 'Positive'])\n",
    "    plt.xlabel('Predicted')\n",
    "    plt.ylabel('Actual')\n",
    "    plt.title('Confusion Matrix')\n",
    "    plt.show()\n",
    "\n",
    "plot_confusion_matrix(y_test, y_pred)\n"
   ]
  }
 ],
 "metadata": {
  "kernelspec": {
   "display_name": "operations_research",
   "language": "python",
   "name": "python3"
  },
  "language_info": {
   "codemirror_mode": {
    "name": "ipython",
    "version": 3
   },
   "file_extension": ".py",
   "mimetype": "text/x-python",
   "name": "python",
   "nbconvert_exporter": "python",
   "pygments_lexer": "ipython3",
   "version": "3.9.18"
  }
 },
 "nbformat": 4,
 "nbformat_minor": 2
}
